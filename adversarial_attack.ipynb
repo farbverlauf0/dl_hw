{
 "cells": [
  {
   "cell_type": "markdown",
   "id": "fcd94668",
   "metadata": {},
   "source": [
    "Для начала подключим все необходимые библиотеки."
   ]
  },
  {
   "cell_type": "code",
   "execution_count": 1,
   "id": "ddb29ebf",
   "metadata": {},
   "outputs": [],
   "source": [
    "from sklearn.datasets import load_digits\n",
    "from sklearn.model_selection import train_test_split\n",
    "import matplotlib.pyplot as plt\n",
    "import torch\n",
    "import torch.nn as nn\n",
    "from torch.optim import Adam\n",
    "from torch.nn import functional as F\n",
    "from tqdm import trange\n",
    "import numpy as np\n",
    "import copy\n",
    "\n",
    "torch.manual_seed(42)\n",
    "EPOCHS = 10000\n",
    "ATTACK_EPOCHS = 10000"
   ]
  },
  {
   "cell_type": "code",
   "execution_count": 2,
   "id": "60f6dc3d",
   "metadata": {},
   "outputs": [],
   "source": [
    "def show_digit(digit):\n",
    "    plt.imshow(digit.reshape(8, 8), 'gray')"
   ]
  },
  {
   "cell_type": "markdown",
   "id": "ac5edd90",
   "metadata": {},
   "source": [
    "Разобьём MNIST dataset на тренировочную и тестовую части."
   ]
  },
  {
   "cell_type": "code",
   "execution_count": 3,
   "id": "5cdd14a2",
   "metadata": {},
   "outputs": [],
   "source": [
    "digits = load_digits()\n",
    "X, y = digits.data, digits.target\n",
    "X_train, X_test, y_train, y_test = train_test_split(X, y, test_size=0.2, random_state=42)\n",
    "X_train, X_test = torch.tensor(X_train, dtype=torch.float), torch.tensor(X_test, dtype=torch.float)\n",
    "y_train, y_test = torch.LongTensor(y_train), torch.LongTensor(y_test)"
   ]
  },
  {
   "cell_type": "markdown",
   "id": "b0369514",
   "metadata": {},
   "source": [
    "Зададим архитектуру нейронной сети, loss-функцию и оптимизатор."
   ]
  },
  {
   "cell_type": "code",
   "execution_count": 4,
   "id": "642cc3f1",
   "metadata": {},
   "outputs": [],
   "source": [
    "model = nn.Sequential(\n",
    "    nn.Linear(64, 128),\n",
    "    nn.ReLU(),\n",
    "    nn.Linear(128, 128),\n",
    "    nn.ReLU(),\n",
    "    nn.Linear(128, 10)\n",
    ")\n",
    "optimizer = Adam(model.parameters(), lr=0.001)\n",
    "loss_function = nn.CrossEntropyLoss()"
   ]
  },
  {
   "cell_type": "markdown",
   "id": "f01f7682",
   "metadata": {},
   "source": [
    "Обучим нейросеть на тренировочных данных."
   ]
  },
  {
   "cell_type": "code",
   "execution_count": 5,
   "id": "1d9cd299",
   "metadata": {},
   "outputs": [
    {
     "name": "stderr",
     "output_type": "stream",
     "text": [
      "100%|███████████████████████████████████████████████████████████████████████████| 10000/10000 [00:30<00:00, 326.57it/s]\n"
     ]
    }
   ],
   "source": [
    "for epoch in trange(EPOCHS):\n",
    "    out = model(X_train)\n",
    "    loss = loss_function(out, y_train)\n",
    "    optimizer.zero_grad()\n",
    "    loss.backward()\n",
    "    optimizer.step()"
   ]
  },
  {
   "cell_type": "markdown",
   "id": "399bd431",
   "metadata": {},
   "source": [
    "Проверим ошибки классификации на тренировочных и на тестовых данных."
   ]
  },
  {
   "cell_type": "code",
   "execution_count": 6,
   "id": "7c532595",
   "metadata": {},
   "outputs": [
    {
     "name": "stdout",
     "output_type": "stream",
     "text": [
      "train acc: 1.0\n",
      "test acc: 0.975\n"
     ]
    }
   ],
   "source": [
    "with torch.no_grad():\n",
    "    train_acc = np.sum(y_train.numpy() == model(X_train).numpy().argmax(axis=1)) / y_train.shape[0]\n",
    "    test_acc = np.sum(y_test.numpy() == model(X_test).numpy().argmax(axis=1)) / y_test.shape[0]\n",
    "print(f'train acc: {train_acc}')\n",
    "print(f'test acc: {test_acc}')"
   ]
  },
  {
   "cell_type": "markdown",
   "id": "0fd95270",
   "metadata": {},
   "source": [
    "Похоже на то, что не переобучились. Посмотрим, на каких тестовых примерах ошибается наша модель."
   ]
  },
  {
   "cell_type": "code",
   "execution_count": 7,
   "id": "593ab7b9",
   "metadata": {},
   "outputs": [
    {
     "name": "stdout",
     "output_type": "stream",
     "text": [
      "Wrong predicted: 9/360\n"
     ]
    }
   ],
   "source": [
    "with torch.no_grad():\n",
    "    pred = model(X_test).numpy().argmax(axis=1)\n",
    "    ind_wrong = y_test.numpy() != pred\n",
    "    pred = pred[ind_wrong]\n",
    "    X_wrong, y_wrong = X_test.numpy()[ind_wrong], y_test.numpy()[ind_wrong]\n",
    "print(f'Wrong predicted: {int(np.sum(ind_wrong))}/{X_test.shape[0]}')"
   ]
  },
  {
   "cell_type": "code",
   "execution_count": 8,
   "id": "e4b53ff3",
   "metadata": {},
   "outputs": [
    {
     "name": "stdout",
     "output_type": "stream",
     "text": [
      "True label: 9, Predicted: 3\n"
     ]
    },
    {
     "data": {
      "image/png": "[encoded data removed]",
      "text/plain": [
       "<Figure size 432x288 with 1 Axes>"
      ]
     },
     "metadata": {
      "needs_background": "light"
     },
     "output_type": "display_data"
    }
   ],
   "source": [
    "show_digit(X_wrong[0])\n",
    "print(f'True label: {y_wrong[0]}, Predicted: {pred[0]}')"
   ]
  },
  {
   "cell_type": "code",
   "execution_count": 9,
   "id": "8d120060",
   "metadata": {},
   "outputs": [
    {
     "name": "stdout",
     "output_type": "stream",
     "text": [
      "True label: 7, Predicted: 9\n"
     ]
    },
    {
     "data": {
      "image/png": "[encoded data removed]",
      "text/plain": [
       "<Figure size 432x288 with 1 Axes>"
      ]
     },
     "metadata": {
      "needs_background": "light"
     },
     "output_type": "display_data"
    }
   ],
   "source": [
    "show_digit(X_wrong[1])\n",
    "print(f'True label: {y_wrong[1]}, Predicted: {pred[1]}')"
   ]
  },
  {
   "cell_type": "code",
   "execution_count": 10,
   "id": "e2fbe539",
   "metadata": {},
   "outputs": [
    {
     "name": "stdout",
     "output_type": "stream",
     "text": [
      "True label: 3, Predicted: 5\n"
     ]
    },
    {
     "data": {
      "image/png": "[encoded data removed]",
      "text/plain": [
       "<Figure size 432x288 with 1 Axes>"
      ]
     },
     "metadata": {
      "needs_background": "light"
     },
     "output_type": "display_data"
    }
   ],
   "source": [
    "show_digit(X_wrong[2])\n",
    "print(f'True label: {y_wrong[2]}, Predicted: {pred[2]}')"
   ]
  },
  {
   "cell_type": "markdown",
   "id": "7d643944",
   "metadata": {},
   "source": [
    "Примеры, предсказанные обученной моделью неправильно, действительно сложно однозначно отнести к одному из классов. Попробуем провести целевую атаку на нашу обученную сеть. В качестве примера возьмём цифру 6 и попробуем немного поменять её так, чтобы наша модель стала предсказывать вместо неё 0."
   ]
  },
  {
   "cell_type": "code",
   "execution_count": 11,
   "id": "6d8622f6",
   "metadata": {},
   "outputs": [
    {
     "name": "stdout",
     "output_type": "stream",
     "text": [
      "Target: 6\n"
     ]
    },
    {
     "data": {
      "image/png": "[encoded data removed]",
      "text/plain": [
       "<Figure size 432x288 with 1 Axes>"
      ]
     },
     "metadata": {
      "needs_background": "light"
     },
     "output_type": "display_data"
    }
   ],
   "source": [
    "example = copy.deepcopy(X_train[0])\n",
    "example_target = y_train[0]\n",
    "show_digit(example)\n",
    "print(f'Target: {example_target}')"
   ]
  },
  {
   "cell_type": "code",
   "execution_count": 12,
   "id": "59eb2d34",
   "metadata": {},
   "outputs": [],
   "source": [
    "x = torch.unsqueeze(example, 0)  # меняем размерность нашего примера, чтобы его можно было передать модели\n",
    "x_target = copy.deepcopy(x)  # хотим, чтобы полученный нами пример в итоге не сильно отличался от исходного\n",
    "x.requires_grad = True  # хотим считать градиент loss-функции по нашему примеру\n",
    "target = torch.LongTensor([0])  # хотим, чтобы обученная нейросеть классифицировала пример как \"0\""
   ]
  },
  {
   "cell_type": "markdown",
   "id": "51555429",
   "metadata": {},
   "source": [
    "Атакуем"
   ]
  },
  {
   "cell_type": "code",
   "execution_count": 13,
   "id": "fc7c8eba",
   "metadata": {},
   "outputs": [
    {
     "name": "stderr",
     "output_type": "stream",
     "text": [
      "100%|██████████████████████████████████████████████████████████████████████████| 10000/10000 [00:04<00:00, 2312.41it/s]\n"
     ]
    }
   ],
   "source": [
    "for epoch in trange(ATTACK_EPOCHS):\n",
    "    out = model(x)\n",
    "    loss = F.cross_entropy(out, target)\n",
    "    loss.backward()\n",
    "    x.data -= 0.001 * (x.grad + 50*(x.data - x_target.data))"
   ]
  },
  {
   "cell_type": "markdown",
   "id": "ab891381",
   "metadata": {},
   "source": [
    "Получили следующий пример, он действительно не сильно отличается от исходной цифры 6 визуально."
   ]
  },
  {
   "cell_type": "code",
   "execution_count": 14,
   "id": "3a5b6ac2",
   "metadata": {},
   "outputs": [
    {
     "data": {
      "image/png": "[encoded data removed]",
      "text/plain": [
       "<Figure size 432x288 with 1 Axes>"
      ]
     },
     "metadata": {
      "needs_background": "light"
     },
     "output_type": "display_data"
    }
   ],
   "source": [
    "show_digit(x.detach().numpy())"
   ]
  },
  {
   "cell_type": "markdown",
   "id": "a0fe4433",
   "metadata": {},
   "source": [
    "Однако нейронная сеть уверенно классифицирует пример, как цифру \"0\"."
   ]
  },
  {
   "cell_type": "code",
   "execution_count": 15,
   "id": "452ba0ea",
   "metadata": {},
   "outputs": [
    {
     "name": "stdout",
     "output_type": "stream",
     "text": [
      "0\n"
     ]
    }
   ],
   "source": [
    "with torch.no_grad():\n",
    "    print(int(model(x).argmax(axis=1)))"
   ]
  },
  {
   "cell_type": "code",
   "execution_count": 16,
   "id": "93c16834",
   "metadata": {},
   "outputs": [
    {
     "name": "stdout",
     "output_type": "stream",
     "text": [
      "tensor([[9.9872e-01, 1.4266e-16, 6.7912e-15, 1.8995e-22, 1.9545e-07, 8.0079e-08,\n",
      "         1.2771e-03, 8.4375e-18, 6.8338e-07, 1.6961e-17]])\n"
     ]
    }
   ],
   "source": [
    "with torch.no_grad():\n",
    "    print(F.softmax(model(x), dim=-1))"
   ]
  }
 ],
 "metadata": {
  "kernelspec": {
   "display_name": "Python 3 (ipykernel)",
   "language": "python",
   "name": "python3"
  },
  "language_info": {
   "codemirror_mode": {
    "name": "ipython",
    "version": 3
   },
   "file_extension": ".py",
   "mimetype": "text/x-python",
   "name": "python",
   "nbconvert_exporter": "python",
   "pygments_lexer": "ipython3",
   "version": "3.9.7"
  }
 },
 "nbformat": 4,
 "nbformat_minor": 5
}
